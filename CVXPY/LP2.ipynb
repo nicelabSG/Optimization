{
 "cells": [
  {
   "attachments": {},
   "cell_type": "markdown",
   "metadata": {},
   "source": [
    "## 노란책 Example 4.4"
   ]
  },
  {
   "cell_type": "code",
   "execution_count": 27,
   "metadata": {},
   "outputs": [],
   "source": [
    "import numpy as np\n",
    "import cvxpy as cp\n",
    "import pandas as pd"
   ]
  },
  {
   "attachments": {},
   "cell_type": "markdown",
   "metadata": {},
   "source": [
    "\\begin{equation}\n",
    "\\begin{aligned}\n",
    "\\max_{x, y} \\quad & 3x_0 + 3x_1\\\\\n",
    "\\textrm{s.t.} \\quad & x_0 + 2x_1 \\le 4\\\\\n",
    "                & 4x_0 + 2x_1 \\le 12    \\\\\n",
    "                & -x_0 + x_1 \\le 1 \\\\\n",
    "                & x_0, x_1 \\ge 0\n",
    "\n",
    "\\end{aligned}\n",
    "\\end{equation}"
   ]
  },
  {
   "cell_type": "code",
   "execution_count": 28,
   "metadata": {},
   "outputs": [],
   "source": [
    "x = cp.Variable(shape=(2,1), nonneg=True)\n",
    "\n",
    "c = np.array([3, 3]).reshape(-1, 1)\n",
    "\n",
    "A = np.array([[1, 2],\n",
    "            [4, 2],\n",
    "            [-1, 1]])\n",
    "\n",
    "b = np.array([4, 12, 1]).reshape(-1, 1)"
   ]
  },
  {
   "cell_type": "code",
   "execution_count": 29,
   "metadata": {},
   "outputs": [],
   "source": [
    "obj = cp.Maximize(c.T @ x)"
   ]
  },
  {
   "cell_type": "code",
   "execution_count": 30,
   "metadata": {},
   "outputs": [],
   "source": [
    "con = [ A@x <= b ]"
   ]
  },
  {
   "cell_type": "code",
   "execution_count": 31,
   "metadata": {},
   "outputs": [
    {
     "data": {
      "text/plain": [
       "9.999999997821394"
      ]
     },
     "execution_count": 31,
     "metadata": {},
     "output_type": "execute_result"
    }
   ],
   "source": [
    "model = cp.Problem(obj, con)\n",
    "model.solve(solver=cp.ECOS)"
   ]
  },
  {
   "cell_type": "code",
   "execution_count": 32,
   "metadata": {},
   "outputs": [
    {
     "name": "stdout",
     "output_type": "stream",
     "text": [
      "The objective function: 10.0\n"
     ]
    }
   ],
   "source": [
    "print(f'The objective function: {np.round(obj.value)}')"
   ]
  },
  {
   "cell_type": "code",
   "execution_count": 33,
   "metadata": {},
   "outputs": [
    {
     "name": "stdout",
     "output_type": "stream",
     "text": [
      "the x_0 value is [2.667]\n",
      "the x_1 value is [0.667]\n"
     ]
    }
   ],
   "source": [
    "print(f'the x_0 value is {np.round(x[0].value, 3)}')\n",
    "print(f'the x_1 value is {np.round(x[1].value, 3)}')"
   ]
  },
  {
   "cell_type": "code",
   "execution_count": null,
   "metadata": {},
   "outputs": [],
   "source": []
  }
 ],
 "metadata": {
  "kernelspec": {
   "display_name": "base",
   "language": "python",
   "name": "python3"
  },
  "language_info": {
   "codemirror_mode": {
    "name": "ipython",
    "version": 3
   },
   "file_extension": ".py",
   "mimetype": "text/x-python",
   "name": "python",
   "nbconvert_exporter": "python",
   "pygments_lexer": "ipython3",
   "version": "3.9.7"
  },
  "orig_nbformat": 4,
  "vscode": {
   "interpreter": {
    "hash": "e4cce46d6be9934fbd27f9ca0432556941ea5bdf741d4f4d64c6cd7f8dfa8fba"
   }
  }
 },
 "nbformat": 4,
 "nbformat_minor": 2
}
