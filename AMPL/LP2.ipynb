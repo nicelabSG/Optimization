{
 "cells": [
  {
   "cell_type": "code",
   "execution_count": 2,
   "metadata": {},
   "outputs": [
    {
     "name": "stdout",
     "output_type": "stream",
     "text": [
      "Licensed to AMPL Community Edition License for <ssonn@sogang.ac.kr>.\n"
     ]
    }
   ],
   "source": [
    "import numpy as np\n",
    "import pandas as pd\n",
    "import matplotlib.pyplot as plt\n",
    "plt.style.use('seaborn-whitegrid')\n",
    "\n",
    "from amplpy import AMPL, ampl_notebook, DataFrame\n",
    "SOLVER = 'knitro'\n",
    "ampl = ampl_notebook(modules=['knitro'],  license_uuid=\"fffffffffffffffffffffffffffff\")"
   ]
  },
  {
   "cell_type": "code",
   "execution_count": 3,
   "metadata": {},
   "outputs": [],
   "source": [
    "%%ampl_eval\n",
    "reset;\n",
    "\n",
    "param a1;\n",
    "param a2;\n",
    "param b1;\n",
    "param b2;\n",
    "\n",
    "var x{1..3} >= 0;\n",
    "var y >= 0;\n",
    "\n",
    "\n",
    "maximize cost: a1*sum{i in 1..3} x[i] + a2*y;\n",
    "\n",
    "s.t. con1: x[1] = 4;\n",
    "s.t. con2: b1*sum{i in 1..3} x[i] + b2*y <= 40;"
   ]
  },
  {
   "cell_type": "code",
   "execution_count": 4,
   "metadata": {},
   "outputs": [],
   "source": [
    "ampl.param['a1'] = 2;\n",
    "ampl.param['a2'] = 3;\n",
    "ampl.param['b1'] = 1;\n",
    "ampl.param['b2'] = 2;"
   ]
  },
  {
   "cell_type": "code",
   "execution_count": 5,
   "metadata": {},
   "outputs": [
    {
     "name": "stdout",
     "output_type": "stream",
     "text": [
      "Artelys Knitro 14.0.0: \n",
      "=======================================\n",
      "          Commercial License\n",
      "         Artelys Knitro 14.0.0\n",
      "=======================================\n",
      "\n",
      "No start point provided -- Knitro computing one.\n",
      "\n",
      "Knitro presolve eliminated 0 variables and 0 constraints.\n",
      "\n",
      "concurrent_evals:        0\n",
      "datacheck:               0\n",
      "hessian_no_f:            1\n",
      "The problem is identified as an LP.\n",
      "\n",
      "Problem Characteristics                                 (   Presolved)\n",
      "-----------------------\n",
      "Objective goal:  Maximize\n",
      "Objective type:  linear\n",
      "Number of variables:                                  3 (           3)\n",
      "    bounded below only:                               3 (           3)\n",
      "    bounded above only:                               0 (           0)\n",
      "    bounded below and above:                          0 (           0)\n",
      "    fixed:                                            0 (           0)\n",
      "    free:                                             0 (           0)\n",
      "Number of constraints:                                1 (           1)\n",
      "    linear equalities:                                0 (           0)\n",
      "    quadratic equalities:                             0 (           0)\n",
      "    gen. nonlinear equalities:                        0 (           0)\n",
      "    linear one-sided inequalities:                    1 (           1)\n",
      "    quadratic one-sided inequalities:                 0 (           0)\n",
      "    gen. nonlinear one-sided inequalities:            0 (           0)\n",
      "    linear two-sided inequalities:                    0 (           0)\n",
      "    quadratic two-sided inequalities:                 0 (           0)\n",
      "    gen. nonlinear two-sided inequalities:            0 (           0)\n",
      "Number of nonzeros in Jacobian:                       3 (           3)\n",
      "Number of nonzeros in Hessian:                        0 (           0)\n",
      "\n",
      "Knitro using the Interior-Point/Barrier Direct algorithm.\n",
      "\n",
      "  Iter      Objective      FeasError   OptError    ||Step||    CGits \n",
      "--------  --------------  ----------  ----------  ----------  -------\n",
      "       0    2.015609e+01   0.000e+00\n",
      "       6    8.000000e+01   0.000e+00   7.266e-09   1.531e-04        0\n",
      "\n",
      "EXIT: Optimal solution found.\n",
      "\n",
      "Final Statistics\n",
      "----------------\n",
      "Final objective value               =   7.99999999913224e+01\n",
      "Final feasibility error (abs / rel) =   0.00e+00 / 0.00e+00\n",
      "Final optimality error  (abs / rel) =   7.27e-09 / 2.42e-09\n",
      "# of iterations                     =          6 \n",
      "# of CG iterations                  =          0 \n",
      "# of function evaluations           =          0\n",
      "# of gradient evaluations           =          0\n",
      "# of Hessian evaluations            =          0\n",
      "Total program time (secs)           =       0.010 (     0.000 CPU time)\n",
      "Time spent in evaluations (secs)    =       0.000\n",
      "\n",
      "===============================================================================\n",
      "\n",
      "\bKnitro 14.0.0: Locally optimal or satisfactory solution.\n",
      "objective 79.99999999; feasibility error 0\n",
      "6 iterations; 0 function evaluations\n",
      "\n",
      "suffix feaserror OUT;\n",
      "suffix opterror OUT;\n",
      "suffix numfcevals OUT;\n",
      "suffix numiters OUT;\n"
     ]
    }
   ],
   "source": [
    "ampl.option[\"solver\"] = SOLVER\n",
    "ampl.solve()"
   ]
  },
  {
   "cell_type": "code",
   "execution_count": null,
   "metadata": {},
   "outputs": [],
   "source": []
  }
 ],
 "metadata": {
  "kernelspec": {
   "display_name": "base",
   "language": "python",
   "name": "python3"
  },
  "language_info": {
   "codemirror_mode": {
    "name": "ipython",
    "version": 3
   },
   "file_extension": ".py",
   "mimetype": "text/x-python",
   "name": "python",
   "nbconvert_exporter": "python",
   "pygments_lexer": "ipython3",
   "version": "3.9.7"
  }
 },
 "nbformat": 4,
 "nbformat_minor": 2
}
