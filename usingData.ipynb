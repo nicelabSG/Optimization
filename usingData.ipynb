{
 "cells": [
  {
   "cell_type": "code",
   "execution_count": 295,
   "metadata": {},
   "outputs": [
    {
     "name": "stdout",
     "output_type": "stream",
     "text": [
      "Licensed to AMPL Community Edition License for <ssonn@sogang.ac.kr>.\n"
     ]
    }
   ],
   "source": [
    "import numpy as np\n",
    "import pandas as pd\n",
    "import matplotlib.pyplot as plt\n",
    "plt.style.use('seaborn-whitegrid')\n",
    "\n",
    "from amplpy import AMPL, ampl_notebook, DataFrame\n",
    "SOLVER = 'knitro'\n",
    "ampl = ampl_notebook(modules=['knitro'],  license_uuid=\"d202b87e-61ca-4e63-8795-d3f0620ee882\")"
   ]
  },
  {
   "cell_type": "code",
   "execution_count": null,
   "metadata": {},
   "outputs": [],
   "source": []
  },
  {
   "cell_type": "code",
   "execution_count": 296,
   "metadata": {},
   "outputs": [],
   "source": [
    "# address = 'C:/Users/user/Desktop/LG_Battery/'\n",
    "# df = pd.read_csv(address + 'test_yeji.csv')"
   ]
  },
  {
   "cell_type": "code",
   "execution_count": null,
   "metadata": {},
   "outputs": [],
   "source": []
  },
  {
   "cell_type": "code",
   "execution_count": 297,
   "metadata": {},
   "outputs": [],
   "source": [
    "%%ampl_eval\n",
    "reset;\n",
    "\n",
    "set I;\n",
    "set J ;\n",
    "\n",
    "param A{I, J};\n",
    "param b{I};\n",
    "\n",
    "var x{J} >= 0;\n",
    "\n",
    "maximize obj: sum{j in J} x[j];\n",
    "\n",
    "s.t. con1 {i in I}:\n",
    "   sum{j in J} A[i, j] * x[j] <= b[i];"
   ]
  },
  {
   "cell_type": "code",
   "execution_count": 298,
   "metadata": {},
   "outputs": [],
   "source": [
    "rA, cA = [0,1,2], [0,1]\n",
    "rb, cb = [0,1,2], [0]\n",
    "\n",
    "ampl.set['I'] = rA\n",
    "ampl.set['J'] = cA\n",
    "ampl.param['A'] = pd.DataFrame([[1, 2], [3, 2], [5, 2]], index=rA, columns=cA)\n",
    "ampl.param['b'] = pd.DataFrame([10, 20, 15], index=rb, columns=cb)"
   ]
  },
  {
   "cell_type": "code",
   "execution_count": 299,
   "metadata": {},
   "outputs": [
    {
     "name": "stdout",
     "output_type": "stream",
     "text": [
      "Artelys Knitro 14.0.0: \n",
      "=======================================\n",
      "          Commercial License\n",
      "         Artelys Knitro 14.0.0\n",
      "=======================================\n",
      "\n",
      "No start point provided -- Knitro computing one.\n",
      "\n",
      "Knitro presolve eliminated 0 variables and 0 constraints.\n",
      "\n",
      "concurrent_evals:        0\n",
      "datacheck:               0\n",
      "hessian_no_f:            1\n",
      "The problem is identified as an LP.\n",
      "\n",
      "Problem Characteristics                                 (   Presolved)\n",
      "-----------------------\n",
      "Objective goal:  Maximize\n",
      "Objective type:  linear\n",
      "Number of variables:                                  2 (           2)\n",
      "    bounded below only:                               2 (           2)\n",
      "    bounded above only:                               0 (           0)\n",
      "    bounded below and above:                          0 (           0)\n",
      "    fixed:                                            0 (           0)\n",
      "    free:                                             0 (           0)\n",
      "Number of constraints:                                2 (           2)\n",
      "    linear equalities:                                0 (           0)\n",
      "    quadratic equalities:                             0 (           0)\n",
      "    gen. nonlinear equalities:                        0 (           0)\n",
      "    linear one-sided inequalities:                    2 (           2)\n",
      "    quadratic one-sided inequalities:                 0 (           0)\n",
      "    gen. nonlinear one-sided inequalities:            0 (           0)\n",
      "    linear two-sided inequalities:                    0 (           0)\n",
      "    quadratic two-sided inequalities:                 0 (           0)\n",
      "    gen. nonlinear two-sided inequalities:            0 (           0)\n",
      "Number of nonzeros in Jacobian:                       4 (           4)\n",
      "Number of nonzeros in Hessian:                        0 (           0)\n",
      "\n",
      "Knitro using the Interior-Point/Barrier Direct algorithm.\n",
      "\n",
      "  Iter      Objective      FeasError   OptError    ||Step||    CGits \n",
      "--------  --------------  ----------  ----------  ----------  -------\n",
      "       0    2.628316e+00   0.000e+00\n",
      "       6    5.625000e+00   0.000e+00   2.134e-10   2.100e-05        0\n",
      "\n",
      "EXIT: Optimal solution found.\n",
      "\n",
      "Final Statistics\n",
      "----------------\n",
      "Final objective value               =   5.62499999971352e+00\n",
      "Final feasibility error (abs / rel) =   0.00e+00 / 0.00e+00\n",
      "Final optimality error  (abs / rel) =   2.13e-10 / 2.13e-10\n",
      "# of iterations                     =          6 \n",
      "# of CG iterations                  =          0 \n",
      "# of function evaluations           =          0\n",
      "# of gradient evaluations           =          0\n",
      "# of Hessian evaluations            =          0\n",
      "Total program time (secs)           =       0.009 (     0.000 CPU time)\n",
      "Time spent in evaluations (secs)    =       0.000\n",
      "\n",
      "===============================================================================\n",
      "\n",
      "\bKnitro 14.0.0: Locally optimal or satisfactory solution.\n",
      "objective 5.625; feasibility error 0\n",
      "6 iterations; 0 function evaluations\n",
      "\n",
      "suffix feaserror OUT;\n",
      "suffix opterror OUT;\n",
      "suffix numfcevals OUT;\n",
      "suffix numiters OUT;\n"
     ]
    }
   ],
   "source": [
    "ampl.option[\"solver\"] = SOLVER\n",
    "ampl.solve()"
   ]
  },
  {
   "cell_type": "code",
   "execution_count": 305,
   "metadata": {},
   "outputs": [
    {
     "name": "stdout",
     "output_type": "stream",
     "text": [
      "1.2499999999961866\n",
      "4.374999999717336\n"
     ]
    }
   ],
   "source": [
    "for i in [0, 1]:\n",
    "    print( ampl.getVariable('x').get(i).value() )"
   ]
  },
  {
   "cell_type": "code",
   "execution_count": 270,
   "metadata": {},
   "outputs": [],
   "source": []
  },
  {
   "cell_type": "code",
   "execution_count": 271,
   "metadata": {},
   "outputs": [],
   "source": []
  },
  {
   "cell_type": "code",
   "execution_count": null,
   "metadata": {},
   "outputs": [],
   "source": []
  },
  {
   "cell_type": "code",
   "execution_count": null,
   "metadata": {},
   "outputs": [],
   "source": []
  },
  {
   "cell_type": "code",
   "execution_count": 51,
   "metadata": {},
   "outputs": [],
   "source": []
  },
  {
   "cell_type": "code",
   "execution_count": null,
   "metadata": {},
   "outputs": [],
   "source": []
  },
  {
   "cell_type": "code",
   "execution_count": null,
   "metadata": {},
   "outputs": [],
   "source": []
  }
 ],
 "metadata": {
  "kernelspec": {
   "display_name": "base",
   "language": "python",
   "name": "python3"
  },
  "language_info": {
   "codemirror_mode": {
    "name": "ipython",
    "version": 3
   },
   "file_extension": ".py",
   "mimetype": "text/x-python",
   "name": "python",
   "nbconvert_exporter": "python",
   "pygments_lexer": "ipython3",
   "version": "3.9.7"
  }
 },
 "nbformat": 4,
 "nbformat_minor": 2
}
