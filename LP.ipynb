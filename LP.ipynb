{
 "cells": [
  {
   "cell_type": "code",
   "execution_count": 3,
   "metadata": {},
   "outputs": [],
   "source": [
    "from amplpy import AMPL, ampl_notebook"
   ]
  },
  {
   "cell_type": "code",
   "execution_count": 4,
   "metadata": {},
   "outputs": [
    {
     "name": "stdout",
     "output_type": "stream",
     "text": [
      "Licensed to AMPL Community Edition License for <ssonn@sogang.ac.kr>.\n"
     ]
    }
   ],
   "source": [
    "SOLVER = 'knitro'\n",
    "\n",
    "ampl = ampl_notebook(\n",
    "    modules=['knitro'],  # modules to install\n",
    "    license_uuid=\"d202b87e-61ca-4e63-8795-d3f0620ee882\", )"
   ]
  },
  {
   "cell_type": "code",
   "execution_count": 5,
   "metadata": {},
   "outputs": [],
   "source": [
    "%%ampl_eval\n",
    "reset;\n",
    "\n",
    "set I := 1..3;\n",
    "\n",
    "# 벡터 형식 변수 정의\n",
    "var x{I} >= 0;\n",
    "\n",
    "# 목표 함수 정의 (예: 최소화)\n",
    "minimize obj: sum{i in I} (3 * x[i]);\n",
    "\n",
    "# 제약 조건 정의\n",
    "s.t. con1: sum{i in I} x[i] >= 10;\n",
    "s.t. con2: x[1] + 2 * x[2] + 3 * x[3] <= 15;"
   ]
  },
  {
   "cell_type": "code",
   "execution_count": 6,
   "metadata": {},
   "outputs": [
    {
     "name": "stdout",
     "output_type": "stream",
     "text": [
      "Artelys Knitro 14.0.0: \n",
      "=======================================\n",
      "          Commercial License\n",
      "         Artelys Knitro 14.0.0\n",
      "=======================================\n",
      "\n",
      "No start point provided -- Knitro computing one.\n",
      "\n",
      "Knitro presolve eliminated 0 variables and 0 constraints.\n",
      "\n",
      "concurrent_evals:        0\n",
      "datacheck:               0\n",
      "hessian_no_f:            1\n",
      "The problem is identified as an LP.\n",
      "\n",
      "Problem Characteristics                                 (   Presolved)\n",
      "-----------------------\n",
      "Objective goal:  Minimize\n",
      "Objective type:  linear\n",
      "Number of variables:                                  3 (           3)\n",
      "    bounded below only:                               3 (           3)\n",
      "    bounded above only:                               0 (           0)\n",
      "    bounded below and above:                          0 (           0)\n",
      "    fixed:                                            0 (           0)\n",
      "    free:                                             0 (           0)\n",
      "Number of constraints:                                2 (           2)\n",
      "    linear equalities:                                0 (           0)\n",
      "    quadratic equalities:                             0 (           0)\n",
      "    gen. nonlinear equalities:                        0 (           0)\n",
      "    linear one-sided inequalities:                    2 (           2)\n",
      "    quadratic one-sided inequalities:                 0 (           0)\n",
      "    gen. nonlinear one-sided inequalities:            0 (           0)\n",
      "    linear two-sided inequalities:                    0 (           0)\n",
      "    quadratic two-sided inequalities:                 0 (           0)\n",
      "    gen. nonlinear two-sided inequalities:            0 (           0)\n",
      "Number of nonzeros in Jacobian:                       6 (           6)\n",
      "Number of nonzeros in Hessian:                        0 (           0)\n",
      "\n",
      "Knitro using the Interior-Point/Barrier Direct algorithm.\n",
      "\n",
      "  Iter      Objective      FeasError   OptError    ||Step||    CGits \n",
      "--------  --------------  ----------  ----------  ----------  -------\n",
      "       0    2.306614e+01   2.311e+00\n",
      "       5    3.000000e+01   0.000e+00   1.144e-09   1.526e-05        0\n",
      "\n",
      "EXIT: Optimal solution found.\n",
      "\n",
      "Final Statistics\n",
      "----------------\n",
      "Final objective value               =   3.00000000005847e+01\n",
      "Final feasibility error (abs / rel) =   0.00e+00 / 0.00e+00\n",
      "Final optimality error  (abs / rel) =   1.14e-09 / 3.81e-10\n",
      "# of iterations                     =          5 \n",
      "# of CG iterations                  =          0 \n",
      "# of function evaluations           =          0\n",
      "# of gradient evaluations           =          0\n",
      "# of Hessian evaluations            =          0\n",
      "Total program time (secs)           =       0.025 (     0.000 CPU time)\n",
      "Time spent in evaluations (secs)    =       0.000\n",
      "\n",
      "===============================================================================\n",
      "\n",
      "\bKnitro 14.0.0: Locally optimal or satisfactory solution.\n",
      "objective 30; feasibility error 0\n",
      "5 iterations; 0 function evaluations\n",
      "\n",
      "suffix feaserror OUT;\n",
      "suffix opterror OUT;\n",
      "suffix numfcevals OUT;\n",
      "suffix numiters OUT;\n"
     ]
    }
   ],
   "source": [
    "ampl.option[\"solver\"] = SOLVER\n",
    "ampl.solve()"
   ]
  },
  {
   "cell_type": "code",
   "execution_count": null,
   "metadata": {},
   "outputs": [],
   "source": []
  },
  {
   "cell_type": "code",
   "execution_count": null,
   "metadata": {},
   "outputs": [],
   "source": []
  }
 ],
 "metadata": {
  "kernelspec": {
   "display_name": "base",
   "language": "python",
   "name": "python3"
  },
  "language_info": {
   "codemirror_mode": {
    "name": "ipython",
    "version": 3
   },
   "file_extension": ".py",
   "mimetype": "text/x-python",
   "name": "python",
   "nbconvert_exporter": "python",
   "pygments_lexer": "ipython3",
   "version": "3.9.7"
  }
 },
 "nbformat": 4,
 "nbformat_minor": 2
}
