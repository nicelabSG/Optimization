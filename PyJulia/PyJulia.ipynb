{
 "cells": [
  {
   "cell_type": "code",
   "execution_count": 121,
   "metadata": {},
   "outputs": [],
   "source": [
    "import julia\n",
    "#julia.Julia(compiled_modules=False)\n",
    "#디버깅하기에 직관적이지 않고 오류도 많다. 그냥 쓰지 말자!!!!",
    "from julia import Main"
   ]
  },
  {
   "cell_type": "code",
   "execution_count": 122,
   "metadata": {},
   "outputs": [
    {
     "data": {
      "text/plain": [
       "14.5"
      ]
     },
     "execution_count": 122,
     "metadata": {},
     "output_type": "execute_result"
    }
   ],
   "source": [
    "Main.eval(\"\"\"\n",
    "        \n",
    "        \n",
    "using JuMP\n",
    "using Gurobi\n",
    "\n",
    "\n",
    "model = Model(Gurobi.Optimizer)    \n",
    "        \n",
    "@variable(model,  0 <= x <= 2)\n",
    "@variable(model,  0 <= y <= 30)\n",
    "\n",
    "@constraint(model,  2x + 4y <= 10)\n",
    "\n",
    "@objective(model, Max,  5x + 3y)\n",
    "        \n",
    "optimize!(model)\n",
    "\n",
    "\n",
    "x_value = value(x)\n",
    "y_value = value(y)\n",
    "obj = objective_value(model)\n",
    "\n",
    "\n",
    "\n",
    "\"\"\")"
   ]
  },
  {
   "cell_type": "code",
   "execution_count": 123,
   "metadata": {},
   "outputs": [
    {
     "name": "stdout",
     "output_type": "stream",
     "text": [
      "2.0\n",
      "1.5\n",
      "14.5\n"
     ]
    }
   ],
   "source": [
    "x = Main.x_value\n",
    "y = Main.y_value\n",
    "obj = Main.obj\n",
    "\n",
    "\n",
    "print(x)\n",
    "print(y)\n",
    "print(obj)"
   ]
  },
  {
   "cell_type": "code",
   "execution_count": null,
   "metadata": {},
   "outputs": [],
   "source": []
  },
  {
   "cell_type": "code",
   "execution_count": null,
   "metadata": {},
   "outputs": [],
   "source": []
  },
  {
   "cell_type": "code",
   "execution_count": null,
   "metadata": {},
   "outputs": [],
   "source": []
  }
 ],
 "metadata": {
  "kernelspec": {
   "display_name": "base",
   "language": "python",
   "name": "python3"
  },
  "language_info": {
   "codemirror_mode": {
    "name": "ipython",
    "version": 3
   },
   "file_extension": ".py",
   "mimetype": "text/x-python",
   "name": "python",
   "nbconvert_exporter": "python",
   "pygments_lexer": "ipython3",
   "version": "3.9.7"
  }
 },
 "nbformat": 4,
 "nbformat_minor": 2
}
